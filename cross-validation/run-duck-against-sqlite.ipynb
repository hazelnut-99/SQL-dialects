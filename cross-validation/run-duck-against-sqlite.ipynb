{
 "cells": [
  {
   "cell_type": "code",
   "execution_count": 30,
   "id": "480e946d",
   "metadata": {},
   "outputs": [],
   "source": [
    "import duckdb\n",
    "import os\n",
    "from collections import defaultdict\n",
    "from sqlglot import parse_one, exp\n",
    "sqlite_suites_dir = \"../test-suites-generated/sqlite-query-log\"\n",
    "file_paths = [\"/select\" + str(i) + \".log\" for i in range(1, 6) ]"
   ]
  },
  {
   "cell_type": "code",
   "execution_count": 40,
   "id": "7b2abe7b",
   "metadata": {},
   "outputs": [],
   "source": [
    "def parse_create_def_dict(queries):\n",
    "    table_create_index = {}\n",
    "    table_insert_index = defaultdict(list)\n",
    "\n",
    "    for index, query in enumerate(queries):\n",
    "        keyword = query.split()[0]\n",
    "        tables = parse_one(query).find_all(exp.Table)\n",
    "        table_names = [table.name for table in tables]\n",
    "        if keyword == \"CREATE\":\n",
    "            for table_name in table_names:\n",
    "                table_create_index[table_name] = index\n",
    "        elif keyword == \"INSERT\":\n",
    "            for table_name in table_names:\n",
    "                table_insert_index[table_name].append(index)\n",
    "    return table_create_index, table_insert_index"
   ]
  },
  {
   "cell_type": "code",
   "execution_count": 46,
   "id": "da0f34fb",
   "metadata": {},
   "outputs": [],
   "source": [
    "def get_elements_by_indices(lst, indices):\n",
    "    return [lst[i] for i in indices if i < len(lst)]"
   ]
  },
  {
   "cell_type": "code",
   "execution_count": 47,
   "id": "0eb1a2ab",
   "metadata": {},
   "outputs": [
    {
     "name": "stdout",
     "output_type": "stream",
     "text": [
      "1031\n",
      "1031\n",
      "3351\n",
      "3857\n",
      "1436\n"
     ]
    }
   ],
   "source": [
    "\"\"\"\n",
    "(\n",
    "[], prep\n",
    "[], actual execution\n",
    ")\n",
    "\"\"\"\n",
    "\n",
    "final_sql_list = [\n",
    "    \n",
    "]\n",
    "for path in file_paths:\n",
    "    \n",
    "    \n",
    "    file_path = sqlite_suites_dir + path\n",
    "    with open(file_path, 'r') as file:\n",
    "        file_contents = file.read()\n",
    "        queries = file_contents.split(\";\")\n",
    "        queries = [query.strip() for query in queries]\n",
    "        queries = [query for query in queries if query]\n",
    "        print(len(queries))\n",
    "        table_create_index, table_insert_index = parse_create_def_dict(queries)\n",
    "        \n",
    "        select_dependencies = defaultdict(list)\n",
    "        \n",
    "        for index, query in enumerate(queries):\n",
    "            if keyword == \"SELECT\":\n",
    "                tables = parse_one(query).find_all(exp.Table)\n",
    "                table_names = [table.name for table in tables]\n",
    "    \n",
    "                for table_name in table_names:\n",
    "                    select_dependencies[index].append(table_create_index[table_name])\n",
    "                    select_dependencies[index].extend(table_insert_index[table_name])\n",
    "        \n",
    "        \n",
    "        \n",
    "        for index, query in enumerate(queries):\n",
    "            if keyword == \"SELECT\":\n",
    "                dependencies = select_dependencies[index]\n",
    "                dependencies = sorted(list(set(dependencies)))\n",
    "                preps = get_elements_by_indices(queries, dependencies)\n",
    "                execution = [query]\n",
    "            \n",
    "                final_sql_list.append((preps, execution))\n",
    "                    "
   ]
  },
  {
   "cell_type": "code",
   "execution_count": 56,
   "id": "0fed3f9e",
   "metadata": {},
   "outputs": [],
   "source": [
    "base_dir = \"../test-suites-cleaned/sqlite/\"\n",
    "for index, (preps, execution) in enumerate(final_sql_list):\n",
    "    dir_name = base_dir + \"test-case-\" + str(index)\n",
    "    os.makedirs(dir_name)\n",
    "    with open(dir_name + \"/prep.sql\", 'w') as file:\n",
    "        for prep in preps:\n",
    "            file.write(prep + \";\\n\")\n",
    "    \n",
    "    with open(dir_name + \"/query.sql\", 'w') as file:\n",
    "        for query in execution:\n",
    "            file.write(prep + \";\\n\")\n",
    "    \n",
    "    "
   ]
  },
  {
   "cell_type": "code",
   "execution_count": 17,
   "id": "d49aaaea",
   "metadata": {},
   "outputs": [],
   "source": [
    "queries = []\n",
    "for path in file_paths:\n",
    "    file_path = sqlite_suites_dir + path\n",
    "    \n",
    "    with open(file_path, 'r') as file:\n",
    "        file_contents = file.read()\n",
    "        new_queries = file_contents.split(\";\")\n",
    "        new_queries = [query.strip() for query in new_queries]\n",
    "        new_queries = [query for query in new_queries if query]\n",
    "        queries.extend(new_queries)"
   ]
  },
  {
   "cell_type": "code",
   "execution_count": 18,
   "id": "27b838ad",
   "metadata": {},
   "outputs": [],
   "source": [
    "keyword_set = set([])\n",
    "for query in queries:\n",
    "    keyword_set.add(query.split()[0])"
   ]
  },
  {
   "cell_type": "code",
   "execution_count": 19,
   "id": "3135ac5d",
   "metadata": {},
   "outputs": [
    {
     "data": {
      "text/plain": [
       "{'CREATE', 'INSERT', 'SELECT'}"
      ]
     },
     "execution_count": 19,
     "metadata": {},
     "output_type": "execute_result"
    }
   ],
   "source": [
    "keyword_set"
   ]
  },
  {
   "cell_type": "code",
   "execution_count": 18,
   "id": "e206b1dc",
   "metadata": {},
   "outputs": [],
   "source": [
    "queries = []\n",
    "with open(sqlite_suites_dir + '/select2.log', 'r') as file:\n",
    "    file_contents = file.read()\n",
    "    queries = file_contents.split(\";\")\n",
    "    queries = [query.strip() for query in queries]\n",
    "    queries = [query for query in queries if query]\n",
    "    "
   ]
  },
  {
   "cell_type": "code",
   "execution_count": 19,
   "id": "cbefe7df",
   "metadata": {},
   "outputs": [],
   "source": [
    "from sqlglot import parse_one, exp"
   ]
  },
  {
   "cell_type": "code",
   "execution_count": 27,
   "id": "d4f7599f",
   "metadata": {},
   "outputs": [],
   "source": [
    "from collections import defaultdict\n",
    "table_create_index = {}\n",
    "table_insert_index = defaultdict(list)\n",
    "\n",
    "for index, query in enumerate(queries):\n",
    "    keyword = query.split()[0]\n",
    "    tables = parse_one(query).find_all(exp.Table)\n",
    "    table_names = [table.name for table in tables]\n",
    "    if keyword == \"CREATE\":\n",
    "        for table_name in table_names:\n",
    "            table_create_index[table_name] = index\n",
    "    elif keyword == \"INSERT\":\n",
    "        for table_name in table_names:\n",
    "            table_insert_index[table_name].append(index)"
   ]
  },
  {
   "cell_type": "code",
   "execution_count": 28,
   "id": "e983142b",
   "metadata": {},
   "outputs": [
    {
     "data": {
      "text/plain": [
       "{'t1': 0}"
      ]
     },
     "execution_count": 28,
     "metadata": {},
     "output_type": "execute_result"
    }
   ],
   "source": [
    "table_create_index"
   ]
  },
  {
   "cell_type": "code",
   "execution_count": 29,
   "id": "bf017569",
   "metadata": {},
   "outputs": [
    {
     "data": {
      "text/plain": [
       "defaultdict(list,\n",
       "            {'t1': [1,\n",
       "              2,\n",
       "              3,\n",
       "              4,\n",
       "              5,\n",
       "              6,\n",
       "              7,\n",
       "              8,\n",
       "              9,\n",
       "              10,\n",
       "              11,\n",
       "              12,\n",
       "              13,\n",
       "              14,\n",
       "              15,\n",
       "              16,\n",
       "              17,\n",
       "              18,\n",
       "              19,\n",
       "              20,\n",
       "              21,\n",
       "              22,\n",
       "              23,\n",
       "              24,\n",
       "              25,\n",
       "              26,\n",
       "              27,\n",
       "              28,\n",
       "              29,\n",
       "              30]})"
      ]
     },
     "execution_count": 29,
     "metadata": {},
     "output_type": "execute_result"
    }
   ],
   "source": [
    "table_insert_index"
   ]
  },
  {
   "cell_type": "code",
   "execution_count": null,
   "id": "5c4a21e6",
   "metadata": {},
   "outputs": [],
   "source": []
  },
  {
   "cell_type": "code",
   "execution_count": 24,
   "id": "1e40be38",
   "metadata": {},
   "outputs": [],
   "source": [
    "keyword_place_dict = {}\n",
    "for index, query in enumerate(queries):\n",
    "    keyword = query.split()[0]\n",
    "    if keyword not in keyword_place_dict:\n",
    "        keyword_place_dict[keyword] = []\n",
    "    keyword_place_dict[keyword].append(index)\n",
    "        "
   ]
  },
  {
   "cell_type": "code",
   "execution_count": 26,
   "id": "16b87029",
   "metadata": {},
   "outputs": [
    {
     "name": "stdout",
     "output_type": "stream",
     "text": [
      "CREATE\n",
      "0\n",
      "0\n",
      "INSERT\n",
      "1\n",
      "30\n",
      "SELECT\n",
      "31\n",
      "1030\n"
     ]
    }
   ],
   "source": [
    "for keyword, indices in keyword_place_dict.items():\n",
    "    print(keyword)\n",
    "    print(min(indices))\n",
    "    print(max(indices))"
   ]
  },
  {
   "cell_type": "code",
   "execution_count": null,
   "id": "d8a80dda",
   "metadata": {},
   "outputs": [],
   "source": []
  }
 ],
 "metadata": {
  "kernelspec": {
   "display_name": "Python 3 (ipykernel)",
   "language": "python",
   "name": "python3"
  },
  "language_info": {
   "codemirror_mode": {
    "name": "ipython",
    "version": 3
   },
   "file_extension": ".py",
   "mimetype": "text/x-python",
   "name": "python",
   "nbconvert_exporter": "python",
   "pygments_lexer": "ipython3",
   "version": "3.10.12"
  }
 },
 "nbformat": 4,
 "nbformat_minor": 5
}
