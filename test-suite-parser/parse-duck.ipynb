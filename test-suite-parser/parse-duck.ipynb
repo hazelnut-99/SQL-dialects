{
 "cells": [
  {
   "cell_type": "code",
   "execution_count": 13,
   "id": "e4c9f290",
   "metadata": {},
   "outputs": [],
   "source": [
    "import duckdb"
   ]
  },
  {
   "cell_type": "code",
   "execution_count": 14,
   "id": "64e79626",
   "metadata": {},
   "outputs": [],
   "source": [
    "test_suites_dir = \"../test-suites/duckdb/\"\n",
    "file_path = test_suites_dir + \"aggregate/aggregates/string_agg_union.test\""
   ]
  },
  {
   "cell_type": "code",
   "execution_count": 15,
   "id": "6d634d60",
   "metadata": {},
   "outputs": [
    {
     "data": {
      "text/plain": [
       "'\\nstatement ok/error\\nquery <type-string> <sort-mode> <label>\\nactual query here\\n---\\nexpected result\\n'"
      ]
     },
     "execution_count": 15,
     "metadata": {},
     "output_type": "execute_result"
    }
   ],
   "source": [
    "\"\"\"\n",
    "statement ok/error\n",
    "query <type-string> <sort-mode> <label>\n",
    "actual query here\n",
    "---\n",
    "expected result\n",
    "\"\"\""
   ]
  },
  {
   "cell_type": "code",
   "execution_count": 16,
   "id": "c310092c",
   "metadata": {},
   "outputs": [],
   "source": [
    "def parse_test_file(filename):\n",
    "    queries = []\n",
    "    current_query = None\n",
    "    in_query_block, collecting_result = False, False\n",
    "    current_result_lines = []\n",
    "\n",
    "    with open(filename, 'r') as file:\n",
    "        for line in file:\n",
    "            line = line.strip()\n",
    "            if line.startswith('#'):\n",
    "                continue\n",
    "            \n",
    "            #empty lines\n",
    "            if not line:\n",
    "                if in_query_block:\n",
    "                    # If we were collecting result lines, join and save them\n",
    "                    if collecting_result and current_query:\n",
    "                        current_query[\"result\"] = \"\\n\".join(current_result_lines).strip()\n",
    "                        current_result_lines = []\n",
    "                        collecting_result = False\n",
    "                    queries.append(current_query)\n",
    "                    current_query = None\n",
    "                    in_query_block = False\n",
    "                continue\n",
    "            \n",
    "            # Check for start of a new query block\n",
    "            if not in_query_block:\n",
    "                current_query = {\n",
    "                    \"success\": None,\n",
    "                    \"query\": \"\",\n",
    "                    \"result_specs\": {\n",
    "                        \"nr_of_columns\": None,\n",
    "                        \"sort\": None,\n",
    "                        \"label\": None\n",
    "                    },\n",
    "                    \"result\": None\n",
    "                }\n",
    "                in_query_block = True\n",
    "            \n",
    "            # Check for expected execution results (statement ok / statement fail)\n",
    "            if line.startswith(\"statement\"):\n",
    "                current_query[\"success\"] = line.endswith(\"ok\")\n",
    "                continue\n",
    "            \n",
    "            # Check for expected columns (query I / query II)\n",
    "            if line.startswith(\"query\"):\n",
    "                result_specs = line.split(\" \")\n",
    "                if len(result_specs) >= 2:\n",
    "                    current_query['result_specs']['nr_of_columns'] = len(result_specs[1])\n",
    "                if len(result_specs) >= 3:\n",
    "                    current_query['result_specs']['sort'] = result_specs[2]\n",
    "                if len(result_specs) >= 4:\n",
    "                    current_query['result_specs']['label'] = result_specs[3]\n",
    "                continue\n",
    "           \n",
    "            \n",
    "            # Check for expected result lines (after ----)\n",
    "            if line.startswith(\"----\"):\n",
    "                collecting_result = True\n",
    "                continue\n",
    "            \n",
    "            # If we are in the result collection mode, accumulate result lines\n",
    "            if collecting_result:\n",
    "                current_result_lines.append(line)\n",
    "                continue\n",
    "            \n",
    "            # Accumulate query lines\n",
    "            current_query[\"query\"] += line + \" \"\n",
    "        \n",
    "        # Append the last query block if there's any\n",
    "        if current_query:\n",
    "            queries.append(current_query)\n",
    "\n",
    "    return queries\n"
   ]
  },
  {
   "cell_type": "code",
   "execution_count": 24,
   "id": "73c029f5",
   "metadata": {},
   "outputs": [],
   "source": [
    "queries = parse_test_file(file_path)"
   ]
  },
  {
   "cell_type": "code",
   "execution_count": 25,
   "id": "35d28230",
   "metadata": {},
   "outputs": [
    {
     "name": "stdout",
     "output_type": "stream",
     "text": [
      "┌─────────┐\n",
      "│ Success │\n",
      "│ boolean │\n",
      "├─────────┤\n",
      "│ 0 rows  │\n",
      "└─────────┘\n",
      "\n",
      "┌─────────────────────┐\n",
      "│    my_string_agg    │\n",
      "│       varchar       │\n",
      "├─────────────────────┤\n",
      "│ text1, text1, text1 │\n",
      "└─────────────────────┘\n",
      "\n",
      "┌─────────────────────┐\n",
      "│    my_string_agg    │\n",
      "│       varchar       │\n",
      "├─────────────────────┤\n",
      "│ text1, text1, text1 │\n",
      "└─────────────────────┘\n",
      "\n"
     ]
    }
   ],
   "source": [
    "for query in queries:\n",
    "    duckdb.sql(query['query']).show()"
   ]
  },
  {
   "cell_type": "code",
   "execution_count": null,
   "id": "d93c5817",
   "metadata": {},
   "outputs": [],
   "source": []
  }
 ],
 "metadata": {
  "kernelspec": {
   "display_name": "Python 3 (ipykernel)",
   "language": "python",
   "name": "python3"
  },
  "language_info": {
   "codemirror_mode": {
    "name": "ipython",
    "version": 3
   },
   "file_extension": ".py",
   "mimetype": "text/x-python",
   "name": "python",
   "nbconvert_exporter": "python",
   "pygments_lexer": "ipython3",
   "version": "3.10.12"
  }
 },
 "nbformat": 4,
 "nbformat_minor": 5
}
