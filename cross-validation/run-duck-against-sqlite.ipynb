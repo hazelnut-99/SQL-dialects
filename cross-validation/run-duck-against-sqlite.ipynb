{
 "cells": [
  {
   "cell_type": "code",
   "execution_count": 21,
   "id": "8cd11f67",
   "metadata": {},
   "outputs": [],
   "source": [
    "import duckdb\n",
    "import os\n",
    "sqlite_suites_dir = \"../test-suites-generated/sqlite-query-log\"\n",
    "file_paths = [\"/select\" + str(i) + \".log\" for i in range(1, 6) ]"
   ]
  },
  {
   "cell_type": "code",
   "execution_count": 22,
   "id": "cb3abec8",
   "metadata": {},
   "outputs": [
    {
     "name": "stdout",
     "output_type": "stream",
     "text": [
      "1031\n",
      "1031\n",
      "3351\n",
      "3857\n",
      "1436\n"
     ]
    }
   ],
   "source": [
    "for path in file_paths:\n",
    "    file_path = sqlite_suites_dir + path\n",
    "    queries = []\n",
    "    with open(file_path, 'r') as file:\n",
    "        file_contents = file.read()\n",
    "        queries = file_contents.split(\";\")\n",
    "    queries = [query.strip() for query in queries]\n",
    "    queries = [query for query in queries if query]\n",
    "    duckdb.sql(query)\n",
    "    print(len(queries))"
   ]
  },
  {
   "cell_type": "code",
   "execution_count": 17,
   "id": "69740fce",
   "metadata": {},
   "outputs": [],
   "source": []
  },
  {
   "cell_type": "code",
   "execution_count": null,
   "id": "9f627171",
   "metadata": {},
   "outputs": [],
   "source": []
  }
 ],
 "metadata": {
  "kernelspec": {
   "display_name": "Python 3 (ipykernel)",
   "language": "python",
   "name": "python3"
  },
  "language_info": {
   "codemirror_mode": {
    "name": "ipython",
    "version": 3
   },
   "file_extension": ".py",
   "mimetype": "text/x-python",
   "name": "python",
   "nbconvert_exporter": "python",
   "pygments_lexer": "ipython3",
   "version": "3.10.12"
  }
 },
 "nbformat": 4,
 "nbformat_minor": 5
}
